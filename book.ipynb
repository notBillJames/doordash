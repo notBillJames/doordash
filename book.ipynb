{
 "cells": [
  {
   "cell_type": "code",
   "execution_count": 4,
   "metadata": {},
   "outputs": [],
   "source": [
    "import script as s\n",
    "dash = s.Dash()"
   ]
  },
  {
   "cell_type": "markdown",
   "metadata": {},
   "source": [
    "# Doordash Analytics API(?)\n",
    "\n",
    "Using the built-in functions of the Dash class instance created above, you can record order information of orders received.  \n",
    "  \n",
    "The built-in functions of the Dash class are:\n",
    "* `start_order()`\n",
    "    * When an order is received, this will ask for the restaurant address, destination address, and distance. It also records the start time.\n",
    "* `pickup_order()`\n",
    "    * When you have received the food for the order, call this and it will record the time.\n",
    "* `dropoff_order()`\n",
    "    * After an order is dropped off, call this to record the time.\n",
    "* `commit_orders()`\n",
    "    * When you are done dashing for the day, call this and it will commit all your order info for the day to the database."
   ]
  },
  {
   "cell_type": "code",
   "execution_count": null,
   "metadata": {},
   "outputs": [],
   "source": [
    "dash.start_order()"
   ]
  },
  {
   "cell_type": "code",
   "execution_count": null,
   "metadata": {},
   "outputs": [],
   "source": [
    "dash.pickup_order()"
   ]
  },
  {
   "cell_type": "code",
   "execution_count": null,
   "metadata": {},
   "outputs": [],
   "source": [
    "dash.dropoff_order()"
   ]
  }
 ],
 "metadata": {
  "interpreter": {
   "hash": "48abd48148ba98236a57ca25e7b9c5be97143d5baf3bb62e26951a9c6df93c7d"
  },
  "kernelspec": {
   "display_name": "Python 3.9.7 64-bit ('doordash_venv': venv)",
   "name": "python3"
  },
  "language_info": {
   "codemirror_mode": {
    "name": "ipython",
    "version": 3
   },
   "file_extension": ".py",
   "mimetype": "text/x-python",
   "name": "python",
   "nbconvert_exporter": "python",
   "pygments_lexer": "ipython3",
   "version": "3.9.7"
  },
  "orig_nbformat": 4
 },
 "nbformat": 4,
 "nbformat_minor": 2
}
