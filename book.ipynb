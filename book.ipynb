{
 "cells": [
  {
   "cell_type": "code",
   "execution_count": 3,
   "metadata": {},
   "outputs": [],
   "source": [
    "import sqlite3 as sql\n",
    "import script as s\n",
    "\n",
    "con = sql.connect(\"doordash.db\")\n",
    "crsr = con.cursor()\n",
    "\n",
    "query = \"\"\"\n",
    "DROP TABLE IF EXISTS orders;\n",
    "\n",
    "CREATE TABLE IF NOT EXISTS orders (\n",
    "    id INT PRIMARY KEY,\n",
    "    restaurant TEXT DEFAULT NULL,\n",
    "    destination TEXT DEFAULT NULL,\n",
    "    distance REAL DEFAULT 0,\n",
    "    pickup_time TEXT DEFAULT NULL,\n",
    "    dropoff_time TEXT DEFAULT NULL\n",
    ");\n",
    "\"\"\"\n",
    "\n",
    "crsr.executescript(query)\n",
    "con.commit()"
   ]
  },
  {
   "cell_type": "code",
   "execution_count": 2,
   "metadata": {},
   "outputs": [
    {
     "name": "stdout",
     "output_type": "stream",
     "text": [
      "{'restaurant': 'chipotle', 'destination': None, 'distance': 3, 'pickup_time': '08:10:2021 18:39.41'}\n"
     ]
    }
   ],
   "source": []
  }
 ],
 "metadata": {
  "interpreter": {
   "hash": "2496deba85b122fe4681eb6f7a13cf7c7e2998ea2ccfa4fb0d135153404c993c"
  },
  "kernelspec": {
   "display_name": "Python 3.9.7 64-bit ('dash_venv': venv)",
   "name": "python3"
  },
  "language_info": {
   "codemirror_mode": {
    "name": "ipython",
    "version": 3
   },
   "file_extension": ".py",
   "mimetype": "text/x-python",
   "name": "python",
   "nbconvert_exporter": "python",
   "pygments_lexer": "ipython3",
   "version": "3.9.7"
  },
  "orig_nbformat": 4
 },
 "nbformat": 4,
 "nbformat_minor": 2
}
