{
 "cells": [
  {
   "cell_type": "code",
   "execution_count": 10,
   "metadata": {},
   "outputs": [
    {
     "name": "stdout",
     "output_type": "stream",
     "text": [
      "RESULT\n",
      "--------------------------\n",
      "('your mom', 'my mom', '1.2', '03/11/2021 14:48.51', '03/11/2021 14:48.51', '03/11/2021 14:48.51')\n",
      "POST INSERT\n",
      "--------------------------\n",
      "(0, 'restaurant', 'TEXT', 0, None, 0)\n",
      "(1, 'destination', 'TEXT', 0, None, 0)\n",
      "(2, 'distance', 'TEXT', 0, None, 0)\n",
      "(3, 'accept_time', 'TEXT', 0, None, 0)\n",
      "(4, 'pickup_time', 'TEXT', 0, None, 0)\n",
      "(5, 'dropoff_time', 'TEXT', 0, None, 0)\n"
     ]
    }
   ],
   "source": [
    "import sqlalchemy as sql\n",
    "import pandas as pd\n",
    "import script\n",
    "\n",
    "e = sql.create_engine(\"sqlite://\")\n",
    "\n",
    "query = \"\"\"\n",
    "CREATE TABLE orders (\n",
    "    id INTEGER PRIMARY KEY,\n",
    "    restaurant TEXT,\n",
    "    destination TEXT,\n",
    "    distance REAL\n",
    ");\n",
    "\"\"\"\n",
    "\n",
    "with e.connect() as conn:\n",
    "    dash = script.Dash()\n",
    "    dash.start_order()\n",
    "    dash.pickup_order()\n",
    "    dash.dropoff_order()\n",
    "    df = pd.DataFrame.from_dict(dash.orders)\n",
    "    df.to_sql(\"orders\", con=conn, if_exists='append', index=False, index_label=\"id\")\n",
    "\n",
    "    print(\"RESULT\")\n",
    "    print(\"--------------------------\")\n",
    "    result = conn.execute(\"SELECT * FROM orders LIMIT 5;\")\n",
    "    for row in result:\n",
    "        print(row)\n",
    "\n",
    "    print(\"POST INSERT\")\n",
    "    print(\"--------------------------\")\n",
    "    result = conn.execute(\"PRAGMA table_info(orders);\")\n",
    "    for row in result:\n",
    "        print(row)\n"
   ]
  },
  {
   "cell_type": "code",
   "execution_count": null,
   "metadata": {},
   "outputs": [],
   "source": []
  }
 ],
 "metadata": {
  "interpreter": {
   "hash": "48abd48148ba98236a57ca25e7b9c5be97143d5baf3bb62e26951a9c6df93c7d"
  },
  "kernelspec": {
   "display_name": "Python 3.9.7 64-bit ('doordash_venv': venv)",
   "name": "python3"
  },
  "language_info": {
   "codemirror_mode": {
    "name": "ipython",
    "version": 3
   },
   "file_extension": ".py",
   "mimetype": "text/x-python",
   "name": "python",
   "nbconvert_exporter": "python",
   "pygments_lexer": "ipython3",
   "version": "3.9.7"
  },
  "orig_nbformat": 4
 },
 "nbformat": 4,
 "nbformat_minor": 2
}
