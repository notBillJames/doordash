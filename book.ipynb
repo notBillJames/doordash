{
 "cells": [
  {
   "cell_type": "code",
   "execution_count": null,
   "metadata": {},
   "outputs": [],
   "source": [
    "import sqlalchemy as sql\n",
    "import pandas as pd\n",
    "\n",
    "df = pd.read_csv(\"pitching_1947_2001.csv\")\n",
    "df = df.head(50)\n",
    "e = sql.create_engine(\"sqlite://\")\n",
    "\n",
    "with e.connect() as conn:\n",
    "  df.to_sql(\"test\", con=conn, if_exists='replace', index=True, index_label=\"id\")\n",
    "  result = conn.execute(\"SELECT * FROM test\")\n",
    "  for row in result:\n",
    "    print(row)\n",
    "    "
   ]
  }
 ],
 "metadata": {
  "interpreter": {
   "hash": "48abd48148ba98236a57ca25e7b9c5be97143d5baf3bb62e26951a9c6df93c7d"
  },
  "kernelspec": {
   "display_name": "Python 3.9.7 64-bit ('doordash_venv': venv)",
   "name": "python3"
  },
  "language_info": {
   "codemirror_mode": {
    "name": "ipython",
    "version": 3
   },
   "file_extension": ".py",
   "mimetype": "text/x-python",
   "name": "python",
   "nbconvert_exporter": "python",
   "pygments_lexer": "ipython3",
   "version": "3.9.7"
  },
  "orig_nbformat": 4
 },
 "nbformat": 4,
 "nbformat_minor": 2
}
